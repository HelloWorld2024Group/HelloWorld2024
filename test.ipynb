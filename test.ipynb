{
 "cells": [
  {
   "cell_type": "code",
   "execution_count": 32,
   "metadata": {},
   "outputs": [
    {
     "ename": "ValueError",
     "evalue": "The number of observations cannot be determined on an empty distance matrix.",
     "output_type": "error",
     "traceback": [
      "\u001b[1;31m---------------------------------------------------------------------------\u001b[0m",
      "\u001b[1;31mValueError\u001b[0m                                Traceback (most recent call last)",
      "Cell \u001b[1;32mIn[32], line 14\u001b[0m\n\u001b[0;32m     11\u001b[0m \u001b[38;5;28;01mfor\u001b[39;00m user_sources \u001b[38;5;129;01min\u001b[39;00m \u001b[38;5;28mlist\u001b[39m(user_choices):\n\u001b[0;32m     12\u001b[0m     user_content_list\u001b[38;5;241m.\u001b[39mappend(data\u001b[38;5;241m.\u001b[39mget(user_sources)[\u001b[38;5;124m\"\u001b[39m\u001b[38;5;124mcontent\u001b[39m\u001b[38;5;124m\"\u001b[39m])\n\u001b[1;32m---> 14\u001b[0m final_dict \u001b[38;5;241m=\u001b[39m \u001b[43marticles_to_output\u001b[49m\u001b[38;5;241;43m.\u001b[39;49m\u001b[43msummarizes_articles\u001b[49m\u001b[43m(\u001b[49m\u001b[43muser_content_list\u001b[49m\u001b[43m)\u001b[49m\n\u001b[0;32m     15\u001b[0m \u001b[38;5;28mprint\u001b[39m(final_dict)\n",
      "File \u001b[1;32mc:\\Users\\layla\\Documents\\GitHub\\HelloWorld2024\\articles_to_output.py:63\u001b[0m, in \u001b[0;36msummarizes_articles\u001b[1;34m(articles)\u001b[0m\n\u001b[0;32m     60\u001b[0m embeddings \u001b[38;5;241m=\u001b[39m model\u001b[38;5;241m.\u001b[39mencode(list_of_articles) \n\u001b[0;32m     62\u001b[0m \u001b[38;5;66;03m#links embeddings using ward method\u001b[39;00m\n\u001b[1;32m---> 63\u001b[0m Z \u001b[38;5;241m=\u001b[39m \u001b[43mlinkage\u001b[49m\u001b[43m(\u001b[49m\u001b[43membeddings\u001b[49m\u001b[43m,\u001b[49m\u001b[43m \u001b[49m\u001b[43mmethod\u001b[49m\u001b[38;5;241;43m=\u001b[39;49m\u001b[38;5;124;43m'\u001b[39;49m\u001b[38;5;124;43mward\u001b[39;49m\u001b[38;5;124;43m'\u001b[39;49m\u001b[43m)\u001b[49m\n\u001b[0;32m     65\u001b[0m \u001b[38;5;66;03m# Create clusters by cutting the dendrogram at a certain threshold (t)\u001b[39;00m\n\u001b[0;32m     66\u001b[0m clusters \u001b[38;5;241m=\u001b[39m fcluster(Z, t\u001b[38;5;241m=\u001b[39mthreshold, criterion\u001b[38;5;241m=\u001b[39m\u001b[38;5;124m'\u001b[39m\u001b[38;5;124mdistance\u001b[39m\u001b[38;5;124m'\u001b[39m)\n",
      "File \u001b[1;32mc:\\Users\\layla\\anaconda3\\Lib\\site-packages\\scipy\\cluster\\hierarchy.py:1033\u001b[0m, in \u001b[0;36mlinkage\u001b[1;34m(y, method, metric, optimal_ordering)\u001b[0m\n\u001b[0;32m   1029\u001b[0m \u001b[38;5;28;01mif\u001b[39;00m \u001b[38;5;129;01mnot\u001b[39;00m xp\u001b[38;5;241m.\u001b[39mall(xp\u001b[38;5;241m.\u001b[39misfinite(y)):\n\u001b[0;32m   1030\u001b[0m     \u001b[38;5;28;01mraise\u001b[39;00m \u001b[38;5;167;01mValueError\u001b[39;00m(\u001b[38;5;124m\"\u001b[39m\u001b[38;5;124mThe condensed distance matrix must contain only \u001b[39m\u001b[38;5;124m\"\u001b[39m\n\u001b[0;32m   1031\u001b[0m                      \u001b[38;5;124m\"\u001b[39m\u001b[38;5;124mfinite values.\u001b[39m\u001b[38;5;124m\"\u001b[39m)\n\u001b[1;32m-> 1033\u001b[0m n \u001b[38;5;241m=\u001b[39m \u001b[38;5;28mint\u001b[39m(\u001b[43mdistance\u001b[49m\u001b[38;5;241;43m.\u001b[39;49m\u001b[43mnum_obs_y\u001b[49m\u001b[43m(\u001b[49m\u001b[43my\u001b[49m\u001b[43m)\u001b[49m)\n\u001b[0;32m   1034\u001b[0m method_code \u001b[38;5;241m=\u001b[39m _LINKAGE_METHODS[method]\n\u001b[0;32m   1036\u001b[0m y \u001b[38;5;241m=\u001b[39m np\u001b[38;5;241m.\u001b[39masarray(y)\n",
      "File \u001b[1;32mc:\\Users\\layla\\anaconda3\\Lib\\site-packages\\scipy\\spatial\\distance.py:2605\u001b[0m, in \u001b[0;36mnum_obs_y\u001b[1;34m(Y)\u001b[0m\n\u001b[0;32m   2603\u001b[0m k \u001b[38;5;241m=\u001b[39m Y\u001b[38;5;241m.\u001b[39mshape[\u001b[38;5;241m0\u001b[39m]\n\u001b[0;32m   2604\u001b[0m \u001b[38;5;28;01mif\u001b[39;00m k \u001b[38;5;241m==\u001b[39m \u001b[38;5;241m0\u001b[39m:\n\u001b[1;32m-> 2605\u001b[0m     \u001b[38;5;28;01mraise\u001b[39;00m \u001b[38;5;167;01mValueError\u001b[39;00m(\u001b[38;5;124m\"\u001b[39m\u001b[38;5;124mThe number of observations cannot be determined on \u001b[39m\u001b[38;5;124m\"\u001b[39m\n\u001b[0;32m   2606\u001b[0m                      \u001b[38;5;124m\"\u001b[39m\u001b[38;5;124man empty distance matrix.\u001b[39m\u001b[38;5;124m\"\u001b[39m)\n\u001b[0;32m   2607\u001b[0m d \u001b[38;5;241m=\u001b[39m \u001b[38;5;28mint\u001b[39m(np\u001b[38;5;241m.\u001b[39mceil(np\u001b[38;5;241m.\u001b[39msqrt(k \u001b[38;5;241m*\u001b[39m \u001b[38;5;241m2\u001b[39m)))\n\u001b[0;32m   2608\u001b[0m \u001b[38;5;28;01mif\u001b[39;00m (d \u001b[38;5;241m*\u001b[39m (d \u001b[38;5;241m-\u001b[39m \u001b[38;5;241m1\u001b[39m) \u001b[38;5;241m/\u001b[39m \u001b[38;5;241m2\u001b[39m) \u001b[38;5;241m!=\u001b[39m k:\n",
      "\u001b[1;31mValueError\u001b[0m: The number of observations cannot be determined on an empty distance matrix."
     ]
    }
   ],
   "source": [
    "import articles_to_output\n",
    "import json\n",
    "\n",
    "user_choices = [\"bbc\"]\n",
    "\n",
    "with open('all_sources_content.json', 'r') as f:\n",
    "    data = json.load(f)\n",
    "\n",
    "\n",
    "user_content_list = []\n",
    "for user_sources in list(user_choices):\n",
    "    user_content_list.append(data.get(user_sources)[\"content\"])\n",
    "\n",
    "final_dict = articles_to_output.summarizes_articles(user_content_list)\n",
    "print(final_dict)\n",
    "\n"
   ]
  }
 ],
 "metadata": {
  "kernelspec": {
   "display_name": "base",
   "language": "python",
   "name": "python3"
  },
  "language_info": {
   "codemirror_mode": {
    "name": "ipython",
    "version": 3
   },
   "file_extension": ".py",
   "mimetype": "text/x-python",
   "name": "python",
   "nbconvert_exporter": "python",
   "pygments_lexer": "ipython3",
   "version": "3.12.4"
  }
 },
 "nbformat": 4,
 "nbformat_minor": 2
}
